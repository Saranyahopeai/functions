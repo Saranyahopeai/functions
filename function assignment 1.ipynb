{
 "cells": [
  {
   "cell_type": "code",
   "execution_count": 1,
   "id": "303a8f41",
   "metadata": {},
   "outputs": [
    {
     "name": "stdout",
     "output_type": "stream",
     "text": [
      "Sub-fields in AI are:\n",
      "Machine Learning\n",
      "Neural Networks\n",
      "Vision\n",
      "Robotics\n",
      "Speech Processing\n",
      "Natural Language Processing\n"
     ]
    }
   ],
   "source": [
    "def Subfields():\n",
    "    AI_list=[\"Machine Learning\",\"Neural Networks\",\"Vision\",\"Robotics\",\"Speech Processing\",\"Natural Language Processing\"]\n",
    "    print(\"Sub-fields in AI are:\")  \n",
    "    for list in AI_list:\n",
    "        print(list)\n",
    "        \n",
    "Subfields()"
   ]
  },
  {
   "cell_type": "code",
   "execution_count": 2,
   "id": "0d7b4816",
   "metadata": {},
   "outputs": [
    {
     "name": "stdout",
     "output_type": "stream",
     "text": [
      "Enter a number: 88\n",
      "88  is Even number\n"
     ]
    }
   ],
   "source": [
    "def OddEven():\n",
    "    Num = int(input(\"Enter a number: \"))\n",
    "    if((Num%2)==0):\n",
    "        print(Num,\" is Even number\")\n",
    "    else:\n",
    "        print(Num,\" is Odd number\")\n",
    "\n",
    "OddEven()\n"
   ]
  },
  {
   "cell_type": "code",
   "execution_count": 5,
   "id": "4e050b3f",
   "metadata": {},
   "outputs": [
    {
     "name": "stdout",
     "output_type": "stream",
     "text": [
      "Your Gender:Female\n",
      "Your Age:25\n",
      "Eligible\n"
     ]
    }
   ],
   "source": [
    "def marriagelg():\n",
    "    sex=input(\"Your Gender:\")\n",
    "    age=int(input(\"Your Age:\"))\n",
    "\n",
    "    if(sex==\"Female\"):\n",
    "        if(age>=18):\n",
    "            print(\"Eligible\")\n",
    "        else:\n",
    "            print(\"Not Eligible\")\n",
    "\n",
    "    elif(sex==\"Male\"):\n",
    "        if(age>=21):\n",
    "            print(\"Eligible\")\n",
    "        else:\n",
    "            print(\"Not Eligible\")    \n",
    "\n",
    "marriagelg()\n",
    "\n"
   ]
  },
  {
   "cell_type": "code",
   "execution_count": 7,
   "id": "15866a3c",
   "metadata": {},
   "outputs": [
    {
     "name": "stdout",
     "output_type": "stream",
     "text": [
      "Total : 411\n",
      "Percentage : 82.19999999999999\n"
     ]
    }
   ],
   "source": [
    "#-------------------------------------------------------------------------------\n",
    "def percentage():\n",
    "    # Subject marks\n",
    "    S1 = 90\n",
    "    S2 = 89\n",
    "    S3 = 68\n",
    "    S4 = 66\n",
    "    S5 = 98\n",
    "\n",
    "    #Marks scored\n",
    "    total = S1 + S2 + S3 + S4 + S5\n",
    "\n",
    "    # No of subjects\n",
    "    totalsubjects = 5\n",
    "\n",
    "    # percentage calculation\n",
    "    percentage = (total / (totalsubjects * 100)) * 100\n",
    "\n",
    "    print(\"Total :\", total)\n",
    "    print(\"Percentage :\", percentage)\n",
    "    \n",
    "percentage()\n",
    "\n"
   ]
  },
  {
   "cell_type": "code",
   "execution_count": 8,
   "id": "1bdf854f",
   "metadata": {},
   "outputs": [
    {
     "name": "stdout",
     "output_type": "stream",
     "text": [
      "Height:15\n",
      "Breadth:23\n",
      "Area of Triangle: 172.5\n",
      "Height1:23\n",
      "Height2:25\n",
      "Breadth:33\n",
      "Perimeter of Triangle: 81\n"
     ]
    }
   ],
   "source": [
    "\n",
    "def triangle():\n",
    "    height=int(input(\"Height:\"))\n",
    "    breadth=int(input(\"Breadth:\"))\n",
    "    area=(height*breadth)/2\n",
    "    print(\"Area of Triangle:\",area)\n",
    "\n",
    "    height1=int(input(\"Height1:\"))\n",
    "    height2=int(input(\"Height2:\"))\n",
    "    breadth=int(input(\"Breadth:\"))\n",
    "    perimeter=height1+height2+breadth\n",
    "    print(\"Perimeter of Triangle:\",perimeter)\n",
    "    \n",
    "triangle()\n"
   ]
  }
 ],
 "metadata": {
  "kernelspec": {
   "display_name": "Python 3 (ipykernel)",
   "language": "python",
   "name": "python3"
  },
  "language_info": {
   "codemirror_mode": {
    "name": "ipython",
    "version": 3
   },
   "file_extension": ".py",
   "mimetype": "text/x-python",
   "name": "python",
   "nbconvert_exporter": "python",
   "pygments_lexer": "ipython3",
   "version": "3.11.5"
  }
 },
 "nbformat": 4,
 "nbformat_minor": 5
}
