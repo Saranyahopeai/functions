{
 "cells": [
  {
   "cell_type": "code",
   "execution_count": 2,
   "id": "f0232f6a",
   "metadata": {
    "scrolled": true
   },
   "outputs": [
    {
     "name": "stdout",
     "output_type": "stream",
     "text": [
      "Sub-fields in AI are:\n",
      "Machine Learning\n",
      "Neural Networks\n",
      "Vision\n",
      "Robotics\n",
      "Speech Processing\n",
      "Natural Language Processing\n",
      "Enter a number: 5\n",
      "5  is Odd number\n",
      "Your Gender:13\n",
      "Your Age:45\n",
      "Total : 411\n",
      "Percentage : 82.19999999999999\n",
      "Height:21\n",
      "Breadth:12\n",
      "Area of Triangle: 126.0\n",
      "Height1:12\n",
      "Height2:12\n",
      "Breadth:23\n",
      "Perimeter of Triangle: 47\n"
     ]
    }
   ],
   "source": [
    "from function import assign \n"
   ]
  },
  {
   "cell_type": "code",
   "execution_count": 3,
   "id": "ae770c83",
   "metadata": {},
   "outputs": [
    {
     "name": "stdout",
     "output_type": "stream",
     "text": [
      "Sub-fields in AI are:\n",
      "Machine Learning\n",
      "Neural Networks\n",
      "Vision\n",
      "Robotics\n",
      "Speech Processing\n",
      "Natural Language Processing\n"
     ]
    }
   ],
   "source": [
    "assign.Subfields()\n"
   ]
  },
  {
   "cell_type": "code",
   "execution_count": 4,
   "id": "efdd9cdf",
   "metadata": {},
   "outputs": [
    {
     "name": "stdout",
     "output_type": "stream",
     "text": [
      "Enter a number: 14\n",
      "14  is Even number\n"
     ]
    }
   ],
   "source": [
    "assign.OddEven()\n",
    "    "
   ]
  },
  {
   "cell_type": "code",
   "execution_count": 6,
   "id": "e89b1e39",
   "metadata": {},
   "outputs": [
    {
     "name": "stdout",
     "output_type": "stream",
     "text": [
      "Your Gender:Male\n",
      "Your Age:21\n",
      "Eligible\n"
     ]
    }
   ],
   "source": [
    " assign.marriagelg()"
   ]
  },
  {
   "cell_type": "code",
   "execution_count": 8,
   "id": "d92fc0f0",
   "metadata": {},
   "outputs": [
    {
     "name": "stdout",
     "output_type": "stream",
     "text": [
      "Height:12\n",
      "Breadth:12\n",
      "Area of Triangle: 72.0\n",
      "Height1:12\n",
      "Height2:12\n",
      "Breadth:132\n",
      "Perimeter of Triangle: 156\n"
     ]
    }
   ],
   "source": [
    "assign.triangle()"
   ]
  },
  {
   "cell_type": "code",
   "execution_count": null,
   "id": "7811a6cc",
   "metadata": {},
   "outputs": [],
   "source": []
  }
 ],
 "metadata": {
  "kernelspec": {
   "display_name": "Python 3 (ipykernel)",
   "language": "python",
   "name": "python3"
  },
  "language_info": {
   "codemirror_mode": {
    "name": "ipython",
    "version": 3
   },
   "file_extension": ".py",
   "mimetype": "text/x-python",
   "name": "python",
   "nbconvert_exporter": "python",
   "pygments_lexer": "ipython3",
   "version": "3.11.5"
  }
 },
 "nbformat": 4,
 "nbformat_minor": 5
}
